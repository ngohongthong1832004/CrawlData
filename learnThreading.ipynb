{
 "cells": [
  {
   "cell_type": "code",
   "execution_count": 2,
   "metadata": {},
   "outputs": [],
   "source": [
    "\n",
    "from bs4 import BeautifulSoup as bs\n",
    "import requests\n",
    "import threading\n",
    "from dataclasses import dataclass, asdict\n"
   ]
  },
  {
   "cell_type": "code",
   "execution_count": null,
   "metadata": {},
   "outputs": [],
   "source": [
    "dataclass\n",
    "class Movie:\n",
    "    title : str\n",
    "    year : int\n",
    "    rating : float\n",
    "    link : str"
   ]
  },
  {
   "cell_type": "code",
   "execution_count": null,
   "metadata": {},
   "outputs": [],
   "source": [
    "soup = bs(requests.get(URL).content, \"html.parser\")\n",
    "\n",
    "def get_pages(start_page, end_page):\n",
    "    pages = []\n",
    "    for page in range(start_page, end_page+1):\n",
    "        pages.append(f\"https://hdtoday.tv/movie?page={page}\")\n",
    "    return pages\n",
    "\n",
    "def get_movie_links():\n",
    "    movie_links = []\n",
    "    for movie in soup.find_all(\"div\", class_=\"flw-item\"):\n",
    "        link = movie.find(\"a\")[\"href\"]\n",
    "        movie_links.append(link)\n",
    "    return movie_links\n",
    "\n",
    "get_movie_links()"
   ]
  },
  {
   "cell_type": "code",
   "execution_count": null,
   "metadata": {},
   "outputs": [],
   "source": [
    "num_threads = 4\n",
    "pages = get_pages(1, 2)\n",
    "movie_links = get_movie_links()\n",
    "page_per_thread = len(pages) // num_threads"
   ]
  },
  {
   "cell_type": "code",
   "execution_count": null,
   "metadata": {},
   "outputs": [],
   "source": []
  }
 ],
 "metadata": {
  "kernelspec": {
   "display_name": "Python 3",
   "language": "python",
   "name": "python3"
  },
  "language_info": {
   "codemirror_mode": {
    "name": "ipython",
    "version": 3
   },
   "file_extension": ".py",
   "mimetype": "text/x-python",
   "name": "python",
   "nbconvert_exporter": "python",
   "pygments_lexer": "ipython3",
   "version": "3.10.11"
  }
 },
 "nbformat": 4,
 "nbformat_minor": 2
}
