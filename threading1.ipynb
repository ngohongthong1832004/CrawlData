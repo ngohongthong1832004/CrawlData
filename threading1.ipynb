{
 "cells": [
  {
   "cell_type": "code",
   "execution_count": 4,
   "metadata": {},
   "outputs": [
    {
     "name": "stdout",
     "output_type": "stream",
     "text": [
      "Thread 1: 0\n",
      "Thread 1: 1\n",
      "Thread 1: 2\n",
      "Thread 1: 3\n",
      "Thread 1: 4\n",
      "Thread 1: 5\n",
      "Thread 1: 6\n",
      "Thread 1: 7\n",
      "Thread 1: 8\n",
      "Thread 1: 9\n",
      "Thread 1: 10\n",
      "Thread 1: 11\n",
      "Thread 1: 12\n",
      "Thread 1: 13\n",
      "Thread 1: 14\n",
      "Thread 1: 15\n",
      "Thread 1: 16\n",
      "Thread 1: 17\n",
      "Thread 1: 18\n",
      "Thread 1: 19\n",
      "Thread 1: 20\n",
      "Thread 1: 21\n",
      "Thread 1: 22\n",
      "Thread 1: 23\n",
      "Thread 1: 24\n",
      "Thread 1: 25\n",
      "Thread 1: 26\n",
      "Thread 1: 27\n",
      "Thread 1: 28\n",
      "Thread 1: 29\n",
      "Thread 1: 30\n",
      "Thread 1: 31\n",
      "Thread 1: 32\n",
      "Thread 1: 33\n",
      "Thread 1: 34\n",
      "Thread 1: 35\n",
      "Thread 1: 36\n",
      "Thread 1: 37\n",
      "Thread 1: 38\n",
      "Thread 1: 39\n",
      "Thread 1: 40\n",
      "Thread 1: 41\n",
      "Thread 1: 42\n",
      "Thread 1: 43\n",
      "Thread 1: 44\n",
      "Thread 1: 45\n",
      "Thread 1: 46\n",
      "Thread 1: 47\n",
      "Thread 1: 48\n",
      "Thread 1: 49\n",
      "Thread 2: A\n",
      "Thread 2: B\n",
      "Thread 2: C\n",
      "Thread 2: D\n",
      "Thread 2: E\n",
      "Both threads have finished.\n"
     ]
    }
   ],
   "source": [
    "import threading\n",
    "\n",
    "def print_numbers():\n",
    "    for i in range(50):\n",
    "        print(f\"Thread 1: {i}\")\n",
    "\n",
    "def print_letters():\n",
    "    for char in 'ABCDE':\n",
    "        print(f\"Thread 2: {char}\")\n",
    "\n",
    "# Create two threads\n",
    "thread1 = threading.Thread(target=print_numbers)\n",
    "thread2 = threading.Thread(target=print_letters)\n",
    "\n",
    "# Start the threads\n",
    "thread1.start()\n",
    "thread2.start()\n",
    "\n",
    "# Wait for both threads to finish\n",
    "thread1.join()\n",
    "thread2.join()\n",
    "\n",
    "print(\"Both threads have finished.\")\n"
   ]
  },
  {
   "cell_type": "code",
   "execution_count": null,
   "metadata": {},
   "outputs": [],
   "source": [
    "\n",
    "\n"
   ]
  }
 ],
 "metadata": {
  "kernelspec": {
   "display_name": "Python 3",
   "language": "python",
   "name": "python3"
  },
  "language_info": {
   "codemirror_mode": {
    "name": "ipython",
    "version": 3
   },
   "file_extension": ".py",
   "mimetype": "text/x-python",
   "name": "python",
   "nbconvert_exporter": "python",
   "pygments_lexer": "ipython3",
   "version": "3.10.11"
  }
 },
 "nbformat": 4,
 "nbformat_minor": 2
}
